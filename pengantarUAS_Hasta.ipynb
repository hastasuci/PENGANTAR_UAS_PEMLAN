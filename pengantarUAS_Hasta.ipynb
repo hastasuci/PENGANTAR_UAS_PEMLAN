{
 "cells": [
  {
   "cell_type": "markdown",
   "metadata": {},
   "source": [
    "Python Expressions"
   ]
  },
  {
   "cell_type": "code",
   "execution_count": 12,
   "metadata": {},
   "outputs": [
    {
     "data": {
      "text/plain": [
       "(0, False, 'PML15523', 'can only concatenate str (not \"int\") to str', False)"
      ]
     },
     "execution_count": 12,
     "metadata": {},
     "output_type": "execute_result"
    }
   ],
   "source": [
    "# a. 15 mod 5\n",
    "a = 15 % 5\n",
    "\n",
    "# b. 12 + 3 * 5 == 75\n",
    "b = 12 + 3 * 5 == 75\n",
    "\n",
    "# c. \"PML\" + \"15523\"\n",
    "c = \"PML\" + \"15523\"\n",
    "\n",
    "# d. \"100\" + 234\n",
    "try:\n",
    "    d = \"100\" + 234\n",
    "except TypeError as e:\n",
    "    d = str(e)\n",
    "\n",
    "# e. ((11 % 3) + 2) != 8 / 2\n",
    "e = ((11 % 3) + 2) != 8 / 2\n",
    "\n",
    "a, b, c, d, e"
   ]
  },
  {
   "cell_type": "code",
   "execution_count": 13,
   "metadata": {},
   "outputs": [
    {
     "data": {
      "text/plain": [
       "(False, True, False, True, True, True)"
      ]
     },
     "execution_count": 13,
     "metadata": {},
     "output_type": "execute_result"
    }
   ],
   "source": [
    "#Boolean Expressions\n",
    "p, q, r = 11, 5, 4\n",
    "\n",
    "bool_a = ((p - r) == (r + q))\n",
    "bool_b = (((p % 3) + q) != (r % 2))\n",
    "bool_c = ((q - 3) == (p % 2 + q))\n",
    "bool_d = ((r + q) != ((p * 2) % 2))\n",
    "bool_e = ((((q % 3) + p) > (r % 2)))\n",
    "bool_f = (((r + p)) <= (q * 5))\n",
    "\n",
    "bool_a, bool_b, bool_c, bool_d, bool_e, bool_f"
   ]
  },
  {
   "cell_type": "markdown",
   "metadata": {},
   "source": [
    "Isian Singkat"
   ]
  },
  {
   "cell_type": "code",
   "execution_count": 14,
   "metadata": {},
   "outputs": [
    {
     "data": {
      "text/plain": [
       "'HoneyBooBooBoo'"
      ]
     },
     "execution_count": 14,
     "metadata": {},
     "output_type": "execute_result"
    }
   ],
   "source": [
    "#String Operations\n",
    "result_1 = \"Honey\" + \"Boo\" * 3\n",
    "result_1"
   ]
  },
  {
   "cell_type": "code",
   "execution_count": 15,
   "metadata": {},
   "outputs": [
    {
     "data": {
      "text/plain": [
       "'Berlin'"
      ]
     },
     "execution_count": 15,
     "metadata": {},
     "output_type": "execute_result"
    }
   ],
   "source": [
    "#Dictionary Operations\n",
    "capitals = {}\n",
    "capitals['Murica'] = 'Warshington'\n",
    "capitals['Germany'] = 'Bonn'\n",
    "capitals['France'] = 'Paris'\n",
    "capitals['Engalnd'] = 'London'\n",
    "capitals['Germany'] = 'Berlin'\n",
    "\n",
    "result_2 = capitals['Germany']\n",
    "result_2"
   ]
  },
  {
   "cell_type": "code",
   "execution_count": 16,
   "metadata": {},
   "outputs": [
    {
     "data": {
      "text/plain": [
       "'can only concatenate str (not \"int\") to str'"
      ]
     },
     "execution_count": 16,
     "metadata": {},
     "output_type": "execute_result"
    }
   ],
   "source": [
    "#String and Integer Addition\n",
    "a = \"23\"\n",
    "b = 9\n",
    "try:\n",
    "    result_3 = a + b\n",
    "except TypeError as e:\n",
    "    result_3 = str(e)\n",
    "\n",
    "result_3"
   ]
  },
  {
   "cell_type": "code",
   "execution_count": 17,
   "metadata": {},
   "outputs": [
    {
     "name": "stdout",
     "output_type": "stream",
     "text": [
      "b\n",
      "c\n",
      "['a', 'b', 'o', 'c', 'p', 'x']\n",
      "['a', 'b', 'o', 'c', 'p']\n"
     ]
    }
   ],
   "source": [
    "#List Operations\n",
    "letters = [\"a\", \"b\", \"o\", \"c\", \"p\"]\n",
    "\n",
    "result_4a = letters[1]\n",
    "result_4b = letters[len(letters) - 2]\n",
    "result_4c = letters + [\"x\"]\n",
    "result_4d = letters\n",
    "\n",
    "print(result_4a)\n",
    "print(result_4b)\n",
    "print(result_4c)\n",
    "print(result_4d)"
   ]
  },
  {
   "cell_type": "code",
   "execution_count": 18,
   "metadata": {},
   "outputs": [
    {
     "data": {
      "text/plain": [
       "'h a n d s'"
      ]
     },
     "execution_count": 18,
     "metadata": {},
     "output_type": "execute_result"
    }
   ],
   "source": [
    "#Join and Split String\n",
    "result_5 = ' '.join('h a n d s'.split())\n",
    "result_5"
   ]
  },
  {
   "cell_type": "code",
   "execution_count": 19,
   "metadata": {},
   "outputs": [
    {
     "data": {
      "text/plain": [
       "3"
      ]
     },
     "execution_count": 19,
     "metadata": {},
     "output_type": "execute_result"
    }
   ],
   "source": [
    "#JSON Operations\n",
    "import json\n",
    "\n",
    "json_string = '[{\"key1\": \"value1\"}, [1, 2, 3], {\"key2\": \"value2\"}]'\n",
    "result_6 = json.loads(json_string)[1][2]\n",
    "result_6"
   ]
  },
  {
   "cell_type": "markdown",
   "metadata": {},
   "source": [
    "Melengkapi Kode"
   ]
  },
  {
   "cell_type": "code",
   "execution_count": 20,
   "metadata": {},
   "outputs": [
    {
     "data": {
      "text/plain": [
       "0"
      ]
     },
     "execution_count": 20,
     "metadata": {},
     "output_type": "execute_result"
    }
   ],
   "source": [
    "#Finding Divisible Index\n",
    "def pembagi_indeks1(nums, divisor):\n",
    "    for i in range(len(nums)):\n",
    "        if nums[i] % divisor == 0:\n",
    "            return i\n",
    "    return -1\n",
    "\n",
    "vals = [100, 66, 55, 64, 41, 35, 18, 64]\n",
    "result_7 = pembagi_indeks1(vals, 5)\n",
    "result_7"
   ]
  },
  {
   "cell_type": "code",
   "execution_count": 21,
   "metadata": {},
   "outputs": [
    {
     "name": "stdout",
     "output_type": "stream",
     "text": [
      "4\n"
     ]
    }
   ],
   "source": [
    "#Mystery Function\n",
    "def mystery(n, m):\n",
    "    p = 0\n",
    "    e = 0\n",
    "    while p < n:\n",
    "        p += 1\n",
    "        e += m\n",
    "    return p\n",
    "\n",
    "print(mystery(4, 3)) "
   ]
  }
 ],
 "metadata": {
  "kernelspec": {
   "display_name": "base",
   "language": "python",
   "name": "python3"
  },
  "language_info": {
   "codemirror_mode": {
    "name": "ipython",
    "version": 3
   },
   "file_extension": ".py",
   "mimetype": "text/x-python",
   "name": "python",
   "nbconvert_exporter": "python",
   "pygments_lexer": "ipython3",
   "version": "3.11.9"
  }
 },
 "nbformat": 4,
 "nbformat_minor": 2
}
